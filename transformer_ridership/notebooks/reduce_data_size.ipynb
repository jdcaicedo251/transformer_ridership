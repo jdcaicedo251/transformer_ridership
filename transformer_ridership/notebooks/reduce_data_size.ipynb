{
 "cells": [
  {
   "cell_type": "code",
   "execution_count": 16,
   "id": "e8e3942c",
   "metadata": {},
   "outputs": [],
   "source": [
    "import pandas as pd\n",
    "import numpy as np\n",
    "import os"
   ]
  },
  {
   "cell_type": "code",
   "execution_count": 12,
   "id": "e000c190",
   "metadata": {},
   "outputs": [],
   "source": [
    "def read_data(path):\n",
    "    df = pd.read_csv(path, parse_dates = ['timestamp'])\n",
    "\n",
    "    #Clean dataset\n",
    "#     df.columns = [strip_accents(col) for col in df.columns]\n",
    "#     stations = df.columns[df.columns.str.contains(\"\\(\")]\n",
    "#     df = df.groupby('timestamp')[stations].sum()\n",
    "#     df = df[df.index <= pd.Timestamp('2021-04-30 23:45:00')]\n",
    "    return df"
   ]
  },
  {
   "cell_type": "code",
   "execution_count": 13,
   "id": "6377e8f0",
   "metadata": {},
   "outputs": [],
   "source": [
    "transactions_fpath = '../../data/clean_transactions.csv'\n",
    "df = read_data(transactions_fpath)"
   ]
  },
  {
   "cell_type": "code",
   "execution_count": 19,
   "id": "f9018c30",
   "metadata": {},
   "outputs": [],
   "source": [
    "df.to_parquet('../../data/transactions.parquet')"
   ]
  },
  {
   "cell_type": "code",
   "execution_count": 18,
   "id": "cba09da7",
   "metadata": {},
   "outputs": [
    {
     "data": {
      "text/plain": [
       "33.103102"
      ]
     },
     "execution_count": 18,
     "metadata": {},
     "output_type": "execute_result"
    }
   ],
   "source": [
    "os.path.getsize('../../data/transactions.parquet')/1000000"
   ]
  },
  {
   "cell_type": "code",
   "execution_count": 20,
   "id": "ae9ffd06",
   "metadata": {},
   "outputs": [],
   "source": [
    "stations = pd.read_csv('../../data/clean_stations_database_v2.csv')"
   ]
  },
  {
   "cell_type": "code",
   "execution_count": 22,
   "id": "edb76c4c",
   "metadata": {},
   "outputs": [],
   "source": [
    "stations.to_parquet('../../data/stations_DB.parquet')"
   ]
  },
  {
   "cell_type": "markdown",
   "id": "ead3f951",
   "metadata": {},
   "source": [
    "# Transforming outputs"
   ]
  },
  {
   "cell_type": "code",
   "execution_count": 57,
   "id": "71bcbad3",
   "metadata": {},
   "outputs": [
    {
     "data": {
      "text/plain": [
       "145.965253"
      ]
     },
     "execution_count": 57,
     "metadata": {},
     "output_type": "execute_result"
    }
   ],
   "source": [
    "# Small Decimals\n",
    "df = pd.read_parquet(\"../outputs/transformers_results_v1.parquet\")\n",
    "df.to_parquet('../../data/exp_1.parquet')\n",
    "os.path.getsize('../../data/exp_1.parquet')/1000000"
   ]
  },
  {
   "cell_type": "code",
   "execution_count": 58,
   "id": "ffb4be5c",
   "metadata": {},
   "outputs": [
    {
     "data": {
      "text/plain": [
       "230.304422"
      ]
     },
     "execution_count": 58,
     "metadata": {},
     "output_type": "execute_result"
    }
   ],
   "source": [
    "# Transforming to Real Values\n",
    "df = pd.read_parquet(\"../outputs/transformers_results_v1.parquet\")\n",
    "mean = 188.4318877714359\n",
    "variance = 120971.63484231419\n",
    "df = (df * np.sqrt(variance)) + mean\n",
    "df.to_parquet('../../data/exp_2.parquet')\n",
    "os.path.getsize('../../data/exp_2.parquet')/1000000"
   ]
  },
  {
   "cell_type": "code",
   "execution_count": 60,
   "id": "9201dfb2",
   "metadata": {},
   "outputs": [
    {
     "data": {
      "text/plain": [
       "30.661738"
      ]
     },
     "execution_count": 60,
     "metadata": {},
     "output_type": "execute_result"
    }
   ],
   "source": [
    "# Aproximate to Closest Integer\n",
    "df = pd.read_parquet(\"../outputs/transformers_results_v1.parquet\")\n",
    "mean = 188.4318877714359\n",
    "variance = 120971.63484231419\n",
    "df = (df * np.sqrt(variance)) + mean\n",
    "df = df.round(decimals = 0)\n",
    "df.to_parquet('../outputs/exp_1_2023_01_18.parquet')\n",
    "os.path.getsize('../outputs/exp_1_2023_01_18.parquet')/1000000"
   ]
  },
  {
   "cell_type": "code",
   "execution_count": null,
   "id": "7ac8b469",
   "metadata": {},
   "outputs": [],
   "source": []
  }
 ],
 "metadata": {
  "kernelspec": {
   "display_name": "Python 3 (ipykernel)",
   "language": "python",
   "name": "python3"
  },
  "language_info": {
   "codemirror_mode": {
    "name": "ipython",
    "version": 3
   },
   "file_extension": ".py",
   "mimetype": "text/x-python",
   "name": "python",
   "nbconvert_exporter": "python",
   "pygments_lexer": "ipython3",
   "version": "3.9.15"
  }
 },
 "nbformat": 4,
 "nbformat_minor": 5
}
