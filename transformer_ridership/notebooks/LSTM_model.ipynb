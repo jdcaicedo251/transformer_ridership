{
 "cells": [
  {
   "cell_type": "code",
   "execution_count": 1,
   "id": "c5722115",
   "metadata": {},
   "outputs": [
    {
     "name": "stderr",
     "output_type": "stream",
     "text": [
      "2023-01-30 10:36:46.446074: I tensorflow/core/platform/cpu_feature_guard.cc:193] This TensorFlow binary is optimized with oneAPI Deep Neural Network Library (oneDNN) to use the following CPU instructions in performance-critical operations:  AVX2 FMA\n",
      "To enable them in other operations, rebuild TensorFlow with the appropriate compiler flags.\n"
     ]
    }
   ],
   "source": [
    "import pandas as pd\n",
    "import numpy as np\n",
    "import os\n",
    "import matplotlib.pyplot as plt\n",
    "import geopandas as gpd\n",
    "import tensorflow as tf\n",
    "\n",
    "import warnings\n",
    "warnings.filterwarnings(\"ignore\")\n",
    "\n",
    "os.chdir('../')\n",
    "import data\n",
    "from transformer_model import MinMax\n",
    "from losses import stats, MAAPE, wMAPE, sMAPE, RMSE, MAE, summary_erros\n",
    "os.chdir('notebooks')"
   ]
  },
  {
   "cell_type": "code",
   "execution_count": 2,
   "id": "eee5b1df",
   "metadata": {},
   "outputs": [
    {
     "name": "stderr",
     "output_type": "stream",
     "text": [
      "2023-01-30 10:37:14.257367: I tensorflow/core/platform/cpu_feature_guard.cc:193] This TensorFlow binary is optimized with oneAPI Deep Neural Network Library (oneDNN) to use the following CPU instructions in performance-critical operations:  AVX2 FMA\n",
      "To enable them in other operations, rebuild TensorFlow with the appropriate compiler flags.\n"
     ]
    },
    {
     "name": "stdout",
     "output_type": "stream",
     "text": [
      "\n",
      "Train features shape: (8206, 18, 147)\n",
      "Test features shape: (730, 18, 147)\n",
      "\n",
      "Train time_embeddings shape: (8206, 19, 8)\n",
      "Test time_embeddings shape: (730, 19, 8)\n",
      "\n",
      "Train spatial_embeddings shape: (8206, 147, 2)\n",
      "Test spatial_embeddings shape: (730, 147, 2)\n",
      "\n",
      "Train labels shape: (8206, 147)\n",
      "Test labels shape: (730, 147)\n",
      "\n",
      "Train status shape: (8206, 19, 147)\n",
      "Test status shape: (730, 19, 147)\n",
      "\n"
     ]
    }
   ],
   "source": [
    "transactions_path = '../../data/transactions.parquet'\n",
    "stations_path = '../../data/stations_DB.parquet'\n",
    "aggregation = \"15-mins\"\n",
    "max_stations = None\n",
    "max_transactions = 10000\n",
    "train_date = '2015-12-01'\n",
    "\n",
    "train_data, test_data, metadata = data.tf_data(\n",
    "        transactions_path,\n",
    "        stations_path,\n",
    "        aggregation,\n",
    "        train_date,\n",
    "        max_transactions,\n",
    "        max_stations)"
   ]
  },
  {
   "cell_type": "code",
   "execution_count": null,
   "id": "200b0a5c",
   "metadata": {},
   "outputs": [],
   "source": [
    "def model_fit(model, train, test, name = 'default'):\n",
    "    x_train = train[0]\n",
    "    x_train_status = train[1]\n",
    "    y_train = train[2]\n",
    "\n",
    "    x_test = test[0]\n",
    "    x_test_status = test[1]\n",
    "    y_test = test[1]\n",
    "    \n",
    "    norm = MinMax()\n",
    "    norm.adapt(x_train)\n",
    "    \n",
    "    x_train = norm(x_train)\n",
    "    y_train = norm(y_train)\n",
    "    x_test = norm(x_test)\n",
    "    \n",
    "    # For compiling and training\n",
    "    loss_fn = tf.losses.MeanSquaredError()\n",
    "    optimizer = tf.optimizers.Adam(0.001)\n",
    "    accuracy_fn = [tf.metrics.MeanAbsoluteError()]\n",
    "    early_stopping = tf.keras.callbacks.EarlyStopping(monitor = 'loss',\n",
    "                                                            patience=5,\n",
    "                                                            mode='min')\n",
    "    model.compile(loss=loss_fn, optimizer=optimizer, metrics=[accuracy_fn])\n",
    "    model.fit(\n",
    "        x = [x_train, x_train_status],\n",
    "        y = y_train,\n",
    "        epochs=100,\n",
    "        callbacks=[early_stopping],\n",
    "        batch_size=256, verbose = False)\n",
    "    \n",
    "    prediction = model.predict([x_test,x_test_status])\n",
    "    prediction = norm(prediction, reverse = True)\n",
    "    prediction = pd.DataFrame(prediction)\n",
    "    prediction.name = name\n",
    "    return prediction"
   ]
  },
  {
   "cell_type": "markdown",
   "id": "c7744f25",
   "metadata": {},
   "source": [
    "## LSTM Model"
   ]
  },
  {
   "cell_type": "code",
   "execution_count": null,
   "id": "0306650a",
   "metadata": {},
   "outputs": [],
   "source": [
    "class LSTM(tf.keras.Model):\n",
    "    def __init__(self, lstm_units = 32, out_dimension =147 ):\n",
    "        super().__init__()\n",
    "        \n",
    "        self.lstm = tf.keras.layers.LSTM(lstm_units, return_sequences=False)\n",
    "        self.dense = tf.keras.layers.Dense(units = out_dimension, activation = 'linear')\n",
    "        self.clousures = tf.keras.layers.Multiply()\n",
    "\n",
    "    def call(self, inputs):\n",
    "        x, clousures = inputs\n",
    "        \n",
    "        x = self.lstm(x)\n",
    "        x = self.dense(x)\n",
    "        x = self.clousures([x, clousures])\n",
    "        return x "
   ]
  },
  {
   "cell_type": "code",
   "execution_count": null,
   "id": "d510b36b",
   "metadata": {},
   "outputs": [],
   "source": [
    "lstm_model = LSTM()\n",
    "x_train = train_data['features'][:,-6:,:]\n",
    "x_train_status = tf.ones_like(train_data['status'])\n",
    "y_train = train_data['labels']\n",
    "\n",
    "x_test = test_data['features'][:,-6:,:]\n",
    "x_test_status = tf.ones_like(test_data['status'])\n",
    "y_test = test_data['labels']\n",
    "exp_1 = model_fit(lstm_model,\n",
    "                  [x_train, x_train_status, y_train],\n",
    "                  [x_test, x_test_status, y_test], \n",
    "                  name = 'LSTM-N')"
   ]
  },
  {
   "cell_type": "code",
   "execution_count": null,
   "id": "2539da31",
   "metadata": {},
   "outputs": [],
   "source": [
    "lstm_model = LSTM()\n",
    "x_train = train_data['features'][:,-14:,:]\n",
    "x_train_status = tf.ones_like(train_data['status'])\n",
    "y_train = train_data['labels']\n",
    "\n",
    "x_test = test_data['features'][:,-14:,:]\n",
    "x_test_status = tf.ones_like(test_data['status'])\n",
    "y_test = test_data['labels']\n",
    "exp_2 = model_fit(lstm_model,\n",
    "                  [x_train, x_train_status, y_train], \n",
    "                  [x_test, x_test_status, y_test], \n",
    "                  name = 'LSTM-N+')"
   ]
  },
  {
   "cell_type": "code",
   "execution_count": null,
   "id": "a3c534ee",
   "metadata": {},
   "outputs": [],
   "source": [
    "lstm_model = LSTM()\n",
    "x_train = train_data['features'][:,-16:,:]\n",
    "x_train_status = tf.ones_like(train_data['status'])\n",
    "y_train = train_data['labels']\n",
    "\n",
    "x_test = test_data['features'][:,-16:,:]\n",
    "x_test_status = tf.ones_like(test_data['status'])\n",
    "y_test = test_data['labels']\n",
    "exp_3 = model_fit(lstm_model,\n",
    "                  [x_train, x_train_status, y_train], \n",
    "                  [x_test, x_test_status, y_test], \n",
    "                  name = 'LSTM-NC')"
   ]
  },
  {
   "cell_type": "code",
   "execution_count": null,
   "id": "d708969b",
   "metadata": {},
   "outputs": [],
   "source": [
    "lstm_model = LSTM()\n",
    "x_train = train_data['features']#[:,-16:,:]\n",
    "x_train_status = tf.ones_like(train_data['status'])\n",
    "y_train = train_data['labels']\n",
    "\n",
    "x_test = test_data['features']#[:,-16:,:]\n",
    "x_test_status = tf.ones_like(test_data['status'])\n",
    "y_test = test_data['labels']\n",
    "exp_4 = model_fit(lstm_model,\n",
    "                  [x_train, x_train_status, y_train], \n",
    "                  [x_test, x_test_status, y_test], \n",
    "                  name = 'LSTM-NCT')"
   ]
  },
  {
   "cell_type": "code",
   "execution_count": null,
   "id": "8d9a2ed5",
   "metadata": {},
   "outputs": [],
   "source": [
    "lstm_model = LSTM()\n",
    "x_train = train_data['features']#[:,-16:,:]\n",
    "x_train_status = train_data['status']\n",
    "y_train = train_data['labels']\n",
    "\n",
    "x_test = test_data['features']#[:,-16:,:]\n",
    "x_test_status = test_data['status']\n",
    "y_test = test_data['labels']\n",
    "exp_5 = model_fit(lstm_model,\n",
    "                  [x_train, x_train_status, y_train], \n",
    "                  [x_test, x_test_status, y_test], \n",
    "                  name = 'LSTM-Clousure')"
   ]
  },
  {
   "cell_type": "markdown",
   "id": "854c25e6",
   "metadata": {},
   "source": [
    "## Dense Model"
   ]
  },
  {
   "cell_type": "code",
   "execution_count": null,
   "id": "0e9d6918",
   "metadata": {},
   "outputs": [],
   "source": [
    "class FNN(tf.keras.Model):\n",
    "    def __init__(self ):\n",
    "        super().__init__()\n",
    "        \n",
    "        self.seq_dense = tf.keras.Sequential([\n",
    "            tf.keras.layers.Flatten(),\n",
    "            tf.keras.layers.Dense(units = 735),\n",
    "            tf.keras.layers.Dense(units = 735),\n",
    "            tf.keras.layers.Dense(units = 735),\n",
    "            tf.keras.layers.Dense(units = 147)\n",
    "        ])\n",
    "        self.clousures = tf.keras.layers.Multiply()\n",
    "\n",
    "    def call(self, inputs):\n",
    "        x, clousures = inputs\n",
    "        x = self.seq_dense(x)\n",
    "        x = self.clousures([x, clousures])\n",
    "        return x"
   ]
  },
  {
   "cell_type": "code",
   "execution_count": null,
   "id": "b45f7429",
   "metadata": {},
   "outputs": [],
   "source": [
    "dense_model = FNN()\n",
    "x_train = train_data['features'][:,-6:,:]\n",
    "x_train_status = tf.ones_like(train_data['status'])\n",
    "y_train = train_data['labels']\n",
    "\n",
    "x_test = test_data['features'][:,-6:,:]\n",
    "x_test_status = tf.ones_like(test_data['status'])\n",
    "y_test = test_data['labels']\n",
    "exp_6 = model_fit(dense_model, \n",
    "                 [x_train, x_train_status, y_train],\n",
    "                 [x_test, x_test_status, y_test], name = 'FNN-N')"
   ]
  },
  {
   "cell_type": "code",
   "execution_count": null,
   "id": "a8472ee7",
   "metadata": {},
   "outputs": [],
   "source": [
    "dense_model = FNN()\n",
    "x_train = train_data['features'][:,-14:,:]\n",
    "x_train_status = tf.ones_like(train_data['status'])\n",
    "y_train = train_data['labels']\n",
    "\n",
    "x_test = test_data['features'][:,-14:,:]\n",
    "x_test_status = tf.ones_like(test_data['status'])\n",
    "y_test = test_data['labels']\n",
    "exp_7 = model_fit(dense_model,\n",
    "                  [x_train, x_train_status, y_train], \n",
    "                  [x_test, x_test_status, y_test], \n",
    "                  name = 'FNN-N+')"
   ]
  },
  {
   "cell_type": "code",
   "execution_count": null,
   "id": "eb975eb0",
   "metadata": {},
   "outputs": [],
   "source": [
    "dense_model = FNN()\n",
    "x_train = train_data['features'][:,-16:,:]\n",
    "x_train_status = tf.ones_like(train_data['status'])\n",
    "y_train = train_data['labels']\n",
    "\n",
    "x_test = test_data['features'][:,-16:,:]\n",
    "x_test_status = tf.ones_like(test_data['status'])\n",
    "y_test = test_data['labels']\n",
    "exp_8 = model_fit(dense_model,\n",
    "                  [x_train, x_train_status, y_train], \n",
    "                  [x_test, x_test_status, y_test], \n",
    "                  name = 'FNN-NC')"
   ]
  },
  {
   "cell_type": "code",
   "execution_count": null,
   "id": "67875da5",
   "metadata": {},
   "outputs": [],
   "source": [
    "dense_model = FNN()\n",
    "x_train = train_data['features']\n",
    "x_train_status = tf.ones_like(train_data['status'])\n",
    "y_train = train_data['labels']\n",
    "\n",
    "x_test = test_data['features']\n",
    "x_test_status = tf.ones_like(test_data['status'])\n",
    "y_test = test_data['labels']\n",
    "exp_9 = model_fit(dense_model,\n",
    "                  [x_train, x_train_status, y_train], \n",
    "                  [x_test, x_test_status, y_test], \n",
    "                  name = 'FNN-NCT')"
   ]
  },
  {
   "cell_type": "code",
   "execution_count": null,
   "id": "a61fbfc6",
   "metadata": {},
   "outputs": [],
   "source": [
    "dense_model = FNN()\n",
    "x_train = train_data['features']#[:,-16:,:]\n",
    "x_train_status = train_data['status']\n",
    "y_train = train_data['labels']\n",
    "\n",
    "x_test = test_data['features']#[:,-16:,:]\n",
    "x_test_status = test_data['status']\n",
    "y_test = test_data['labels']\n",
    "exp_10 = model_fit(dense_model,\n",
    "                  [x_train, x_train_status, y_train], \n",
    "                  [x_test, x_test_status, y_test], \n",
    "                  name = 'FNN-Clousure')"
   ]
  },
  {
   "cell_type": "markdown",
   "id": "50eb9bd6",
   "metadata": {},
   "source": [
    "## CNN"
   ]
  },
  {
   "cell_type": "code",
   "execution_count": null,
   "id": "6cd11fa2",
   "metadata": {},
   "outputs": [],
   "source": [
    "# The inputs are 128-length vectors with 10 timesteps, and the\n",
    "# batch size is 4.\n",
    "input_shape = (32, 18, 147)\n",
    "x = tf.random.normal(input_shape)\n",
    "CON = tf.keras.layers.Conv1D(\n",
    "147, 3, activation='relu',input_shape=input_shape[1:])\n",
    "y = CON(x)\n",
    "print(y.shape)"
   ]
  },
  {
   "cell_type": "code",
   "execution_count": null,
   "id": "dff70c1f",
   "metadata": {},
   "outputs": [],
   "source": [
    "CON.weights"
   ]
  },
  {
   "cell_type": "code",
   "execution_count": null,
   "id": "af2b9177",
   "metadata": {},
   "outputs": [],
   "source": [
    "class CNN(tf.keras.Model):\n",
    "    def __init__(self ):\n",
    "        super().__init__()\n",
    "        \n",
    "        self.seq_dense = tf.keras.Sequential([\n",
    "            tf.keras.layers.Flatten(),\n",
    "            tf.keras.layers.Dense(units = 735),\n",
    "            tf.keras.layers.Dense(units = 735),\n",
    "            tf.keras.layers.Dense(units = 735),\n",
    "            tf.keras.layers.Dense(units = 147)\n",
    "        ])\n",
    "        self.clousures = tf.keras.layers.Multiply()\n",
    "\n",
    "    def call(self, inputs):\n",
    "        x, clousures = inputs\n",
    "        x = self.seq_dense(x)\n",
    "        x = self.clousures([x, clousures])\n",
    "        return x"
   ]
  },
  {
   "cell_type": "code",
   "execution_count": null,
   "id": "961a8f5d",
   "metadata": {},
   "outputs": [],
   "source": [
    "stations = metadata['list_stations']"
   ]
  },
  {
   "cell_type": "code",
   "execution_count": null,
   "id": "c2f2c4c6",
   "metadata": {},
   "outputs": [],
   "source": [
    "index = metadata['test_date_index']"
   ]
  },
  {
   "cell_type": "code",
   "execution_count": null,
   "id": "dc99fabe",
   "metadata": {},
   "outputs": [],
   "source": [
    "index"
   ]
  },
  {
   "cell_type": "code",
   "execution_count": null,
   "id": "363d90b6",
   "metadata": {},
   "outputs": [],
   "source": [
    "exp_1.index = metadata['test_date_index']\n",
    "exp_1.columns = metadata['list_stations']\n",
    "filter_time = (exp_1.index.hour > 5) & (exp_1.index.hour < 22) & (exp_1.index.weekday <5)"
   ]
  },
  {
   "cell_type": "code",
   "execution_count": null,
   "id": "235b8fd8",
   "metadata": {},
   "outputs": [],
   "source": [
    "exp_1[filter_time]"
   ]
  },
  {
   "cell_type": "code",
   "execution_count": null,
   "id": "2e963895",
   "metadata": {
    "scrolled": false
   },
   "outputs": [],
   "source": [
    "summary_erros(y_test.numpy(), [exp_1, exp_2, exp_3, exp_4, exp_5, \n",
    "                               exp_6, exp_7, exp_8, exp_9, exp_10,])"
   ]
  }
 ],
 "metadata": {
  "kernelspec": {
   "display_name": "Python 3 (ipykernel)",
   "language": "python",
   "name": "python3"
  },
  "language_info": {
   "codemirror_mode": {
    "name": "ipython",
    "version": 3
   },
   "file_extension": ".py",
   "mimetype": "text/x-python",
   "name": "python",
   "nbconvert_exporter": "python",
   "pygments_lexer": "ipython3",
   "version": "3.9.15"
  }
 },
 "nbformat": 4,
 "nbformat_minor": 5
}
